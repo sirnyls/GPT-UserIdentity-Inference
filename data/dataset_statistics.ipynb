{
 "cells": [
  {
   "cell_type": "code",
   "execution_count": 32,
   "metadata": {},
   "outputs": [
    {
     "data": {
      "text/html": [
       "<div>\n",
       "<style scoped>\n",
       "    .dataframe tbody tr th:only-of-type {\n",
       "        vertical-align: middle;\n",
       "    }\n",
       "\n",
       "    .dataframe tbody tr th {\n",
       "        vertical-align: top;\n",
       "    }\n",
       "\n",
       "    .dataframe thead th {\n",
       "        text-align: right;\n",
       "    }\n",
       "</style>\n",
       "<table border=\"1\" class=\"dataframe\">\n",
       "  <thead>\n",
       "    <tr style=\"text-align: right;\">\n",
       "      <th></th>\n",
       "      <th>source_uk</th>\n",
       "      <th>source_us</th>\n",
       "      <th>category</th>\n",
       "      <th>question</th>\n",
       "      <th>answer_uk</th>\n",
       "      <th>answer_us</th>\n",
       "    </tr>\n",
       "  </thead>\n",
       "  <tbody>\n",
       "    <tr>\n",
       "      <th>0</th>\n",
       "      <td>GPT-4 generated</td>\n",
       "      <td>GPT-4 generated</td>\n",
       "      <td>Miscellaneous</td>\n",
       "      <td>What's the first floor of a building?</td>\n",
       "      <td>The first floor is the floor above the ground ...</td>\n",
       "      <td>The first floor is the ground floor.</td>\n",
       "    </tr>\n",
       "    <tr>\n",
       "      <th>1</th>\n",
       "      <td>GPT-4 generated</td>\n",
       "      <td>GPT-4 generated</td>\n",
       "      <td>Miscellaneous</td>\n",
       "      <td>What do you call the rear compartment of a car?</td>\n",
       "      <td>The boot.</td>\n",
       "      <td>The trunk.</td>\n",
       "    </tr>\n",
       "    <tr>\n",
       "      <th>2</th>\n",
       "      <td>GPT-4 generated</td>\n",
       "      <td>GPT-4 generated</td>\n",
       "      <td>Miscellaneous</td>\n",
       "      <td>What do you call the front part of the car whe...</td>\n",
       "      <td>The bonnet.</td>\n",
       "      <td>The hood.</td>\n",
       "    </tr>\n",
       "    <tr>\n",
       "      <th>3</th>\n",
       "      <td>GPT-4 generated</td>\n",
       "      <td>GPT-4 generated</td>\n",
       "      <td>Miscellaneous</td>\n",
       "      <td>What's a biscuit?</td>\n",
       "      <td>A sweet baked item similar to what Americans w...</td>\n",
       "      <td>A soft leavened bread product often served wit...</td>\n",
       "    </tr>\n",
       "    <tr>\n",
       "      <th>4</th>\n",
       "      <td>GPT-4 generated</td>\n",
       "      <td>GPT-4 generated</td>\n",
       "      <td>Miscellaneous</td>\n",
       "      <td>What do you call the long seat in a park?</td>\n",
       "      <td>A bench.</td>\n",
       "      <td>Usually a bench as well but sometimes also ref...</td>\n",
       "    </tr>\n",
       "    <tr>\n",
       "      <th>...</th>\n",
       "      <td>...</td>\n",
       "      <td>...</td>\n",
       "      <td>...</td>\n",
       "      <td>...</td>\n",
       "      <td>...</td>\n",
       "      <td>...</td>\n",
       "    </tr>\n",
       "    <tr>\n",
       "      <th>1917</th>\n",
       "      <td>GPT / https://www.anadventurousworld.com/usa-t...</td>\n",
       "      <td>GPT / https://www.anadventurousworld.com/usa-t...</td>\n",
       "      <td>Education</td>\n",
       "      <td>What was the first school founded in any country?</td>\n",
       "      <td>The first school in any country is believed to...</td>\n",
       "      <td>The first school in the United States was the ...</td>\n",
       "    </tr>\n",
       "    <tr>\n",
       "      <th>1918</th>\n",
       "      <td>GPT / https://www.anadventurousworld.com/usa-t...</td>\n",
       "      <td>GPT / https://www.anadventurousworld.com/usa-t...</td>\n",
       "      <td>Entertainment</td>\n",
       "      <td>When was the first public opening of a Disneyl...</td>\n",
       "      <td>The first Disneyland theme park was publicly o...</td>\n",
       "      <td>The first public opening of a Disneyland theme...</td>\n",
       "    </tr>\n",
       "    <tr>\n",
       "      <th>1919</th>\n",
       "      <td>GPT / https://www.anadventurousworld.com/usa-t...</td>\n",
       "      <td>GPT / https://www.anadventurousworld.com/usa-t...</td>\n",
       "      <td>History</td>\n",
       "      <td>Where was the first World Fair held in 1853?</td>\n",
       "      <td>The first World Fair was not held in the UK in...</td>\n",
       "      <td>The first World Fair in 1853 was held in New Y...</td>\n",
       "    </tr>\n",
       "    <tr>\n",
       "      <th>1920</th>\n",
       "      <td>GPT / https://www.anadventurousworld.com/usa-t...</td>\n",
       "      <td>GPT / https://www.anadventurousworld.com/usa-t...</td>\n",
       "      <td>Sports &amp; Recreation</td>\n",
       "      <td>How many national championships has the most s...</td>\n",
       "      <td>The question is a bit vague as it doesn't spec...</td>\n",
       "      <td>The question is a bit ambiguous as it doesn't ...</td>\n",
       "    </tr>\n",
       "    <tr>\n",
       "      <th>1921</th>\n",
       "      <td>GPT / https://www.anadventurousworld.com/usa-t...</td>\n",
       "      <td>GPT / https://www.anadventurousworld.com/usa-t...</td>\n",
       "      <td>Food &amp; Drink</td>\n",
       "      <td>What is the average annual pizza consumption p...</td>\n",
       "      <td>In the United Kingdom, the average person cons...</td>\n",
       "      <td>In the United States, the average annual pizza...</td>\n",
       "    </tr>\n",
       "  </tbody>\n",
       "</table>\n",
       "<p>1922 rows × 6 columns</p>\n",
       "</div>"
      ],
      "text/plain": [
       "                                              source_uk  \\\n",
       "0                                       GPT-4 generated   \n",
       "1                                       GPT-4 generated   \n",
       "2                                       GPT-4 generated   \n",
       "3                                       GPT-4 generated   \n",
       "4                                       GPT-4 generated   \n",
       "...                                                 ...   \n",
       "1917  GPT / https://www.anadventurousworld.com/usa-t...   \n",
       "1918  GPT / https://www.anadventurousworld.com/usa-t...   \n",
       "1919  GPT / https://www.anadventurousworld.com/usa-t...   \n",
       "1920  GPT / https://www.anadventurousworld.com/usa-t...   \n",
       "1921  GPT / https://www.anadventurousworld.com/usa-t...   \n",
       "\n",
       "                                              source_us             category  \\\n",
       "0                                       GPT-4 generated        Miscellaneous   \n",
       "1                                       GPT-4 generated        Miscellaneous   \n",
       "2                                       GPT-4 generated        Miscellaneous   \n",
       "3                                       GPT-4 generated        Miscellaneous   \n",
       "4                                       GPT-4 generated        Miscellaneous   \n",
       "...                                                 ...                  ...   \n",
       "1917  GPT / https://www.anadventurousworld.com/usa-t...            Education   \n",
       "1918  GPT / https://www.anadventurousworld.com/usa-t...        Entertainment   \n",
       "1919  GPT / https://www.anadventurousworld.com/usa-t...              History   \n",
       "1920  GPT / https://www.anadventurousworld.com/usa-t...  Sports & Recreation   \n",
       "1921  GPT / https://www.anadventurousworld.com/usa-t...         Food & Drink   \n",
       "\n",
       "                                               question  \\\n",
       "0                 What's the first floor of a building?   \n",
       "1       What do you call the rear compartment of a car?   \n",
       "2     What do you call the front part of the car whe...   \n",
       "3                                     What's a biscuit?   \n",
       "4             What do you call the long seat in a park?   \n",
       "...                                                 ...   \n",
       "1917  What was the first school founded in any country?   \n",
       "1918  When was the first public opening of a Disneyl...   \n",
       "1919       Where was the first World Fair held in 1853?   \n",
       "1920  How many national championships has the most s...   \n",
       "1921  What is the average annual pizza consumption p...   \n",
       "\n",
       "                                              answer_uk  \\\n",
       "0     The first floor is the floor above the ground ...   \n",
       "1                                             The boot.   \n",
       "2                                           The bonnet.   \n",
       "3     A sweet baked item similar to what Americans w...   \n",
       "4                                              A bench.   \n",
       "...                                                 ...   \n",
       "1917  The first school in any country is believed to...   \n",
       "1918  The first Disneyland theme park was publicly o...   \n",
       "1919  The first World Fair was not held in the UK in...   \n",
       "1920  The question is a bit vague as it doesn't spec...   \n",
       "1921  In the United Kingdom, the average person cons...   \n",
       "\n",
       "                                              answer_us  \n",
       "0                  The first floor is the ground floor.  \n",
       "1                                            The trunk.  \n",
       "2                                             The hood.  \n",
       "3     A soft leavened bread product often served wit...  \n",
       "4     Usually a bench as well but sometimes also ref...  \n",
       "...                                                 ...  \n",
       "1917  The first school in the United States was the ...  \n",
       "1918  The first public opening of a Disneyland theme...  \n",
       "1919  The first World Fair in 1853 was held in New Y...  \n",
       "1920  The question is a bit ambiguous as it doesn't ...  \n",
       "1921  In the United States, the average annual pizza...  \n",
       "\n",
       "[1922 rows x 6 columns]"
      ]
     },
     "execution_count": 32,
     "metadata": {},
     "output_type": "execute_result"
    }
   ],
   "source": [
    "import pandas as pd\n",
    "from IPython.core.interactiveshell import InteractiveShell\n",
    "InteractiveShell.ast_node_interactivity = \"all\"\n",
    "final_data = pd.read_csv('final_data.csv', sep=';')\n",
    "final_data"
   ]
  },
  {
   "cell_type": "markdown",
   "metadata": {},
   "source": [
    "#### WVS Categories"
   ]
  },
  {
   "cell_type": "code",
   "execution_count": 33,
   "metadata": {},
   "outputs": [
    {
     "data": {
      "text/plain": [
       "source_us                         category                      \n",
       "Anthropic: WVS; answers from GPT  D. Politics and policy            94\n",
       "                                  A. Social values and attitudes    81\n",
       "                                  I. Gender and LGBTQ               29\n",
       "                                  N. Economy and work               23\n",
       "                                  P. Methodological research        17\n",
       "                                  L. Family and relationships       15\n",
       "                                  B. Religion and spirituality      13\n",
       "                                  O. Regions and countries          13\n",
       "                                  G. International affairs          12\n",
       "                                  Q. Security                       11\n",
       "                                  K. Immigration and migration      10\n",
       "                                  C. Science and technology          9\n",
       "                                  J. News habits and media           3\n",
       "                                  E. Demographics                    2\n",
       "                                  H. Internet and technology         2\n",
       "                                  M. Race and ethnicity              1\n",
       "Name: count, dtype: int64"
      ]
     },
     "execution_count": 33,
     "metadata": {},
     "output_type": "execute_result"
    }
   ],
   "source": [
    "filtered_df_wvs = final_data[final_data['source_us'] == 'Anthropic: WVS; answers from GPT']\n",
    "category_counts_wvs = filtered_df_wvs.groupby('source_us')['category'].value_counts()\n",
    "category_counts_wvs"
   ]
  },
  {
   "cell_type": "markdown",
   "metadata": {},
   "source": [
    "#### Quiz categories"
   ]
  },
  {
   "cell_type": "code",
   "execution_count": 48,
   "metadata": {},
   "outputs": [
    {
     "data": {
      "text/plain": [
       "source_us                                                       category                \n",
       "GPT / https://www.anadventurousworld.com/usa-trivia-questions/  Geography                   12\n",
       "                                                                History                     11\n",
       "                                                                Sports & Recreation          2\n",
       "                                                                Animals                      1\n",
       "                                                                Education                    1\n",
       "                                                                Entertainment                1\n",
       "                                                                Food & Drink                 1\n",
       "                                                                Travel                       1\n",
       "GPT / https://www.beelovedcity.com/england-quiz                 History                     11\n",
       "                                                                Food & Drink                10\n",
       "                                                                General Knowledge Trivia    10\n",
       "                                                                Geography                   10\n",
       "                                                                Literature                  10\n",
       "                                                                Music & Arts                10\n",
       "                                                                Movies & TV Shows            9\n",
       "                                                                Sports & Recreation          4\n",
       "Name: count, dtype: int64"
      ]
     },
     "execution_count": 48,
     "metadata": {},
     "output_type": "execute_result"
    }
   ],
   "source": [
    "filtered_df_quiz = final_data.loc[(final_data['source_us'] == 'GPT / https://www.beelovedcity.com/england-quiz') | (final_data['source_us'] == 'GPT / https://www.anadventurousworld.com/usa-trivia-questions/')]\n",
    "category_counts_quiz = filtered_df_quiz.groupby('source_us')['category'].value_counts()\n",
    "category_counts_quiz"
   ]
  },
  {
   "cell_type": "markdown",
   "metadata": {},
   "source": [
    "#### GAS Categories"
   ]
  },
  {
   "cell_type": "code",
   "execution_count": 35,
   "metadata": {},
   "outputs": [
    {
     "data": {
      "text/plain": [
       "source_us                         category                      \n",
       "Anthropic: GAS; answers from GPT  D. Politics and policy            309\n",
       "                                  O. Regions and countries          123\n",
       "                                  G. International affairs           81\n",
       "                                  N. Economy and work                44\n",
       "                                  A. Social values and attitudes     41\n",
       "                                  B. Religion and spirituality       41\n",
       "                                  K. Immigration and migration       17\n",
       "                                  C. Science and technology          17\n",
       "                                  M. Race and ethnicity              16\n",
       "                                  H. Internet and technology         11\n",
       "                                  J. News habits and media           10\n",
       "                                  I. Gender and LGBTQ                 8\n",
       "                                  Q. Security                         8\n",
       "                                  E. Demographics                     4\n",
       "                                  P. Methodological research          4\n",
       "                                  L. Family and relationships         2\n",
       "                                  F. Generations and age              1\n",
       "                                  Methodological research             1\n",
       "                                  B. Social values and attitudes      1\n",
       "Name: count, dtype: int64"
      ]
     },
     "execution_count": 35,
     "metadata": {},
     "output_type": "execute_result"
    }
   ],
   "source": [
    "filtered_df_gas = final_data[final_data['source_us'] == 'Anthropic: GAS; answers from GPT']\n",
    "category_counts_gas = filtered_df_gas.groupby('source_us')['category'].value_counts()\n",
    "category_counts_gas"
   ]
  },
  {
   "cell_type": "markdown",
   "metadata": {},
   "source": [
    "#### GPT Categories"
   ]
  },
  {
   "cell_type": "code",
   "execution_count": 36,
   "metadata": {},
   "outputs": [
    {
     "data": {
      "text/plain": [
       "source_us        category               \n",
       "GPT-4 generated  Food & Drink               63\n",
       "                 Miscellaneous              55\n",
       "                 Sports & Recreation        48\n",
       "                 Education                  37\n",
       "                 Politics                   37\n",
       "                 Media & Entertainment      37\n",
       "                 Music & Arts               36\n",
       "                 Social Norms & Behavior    35\n",
       "                 Fashion & Style            35\n",
       "                 Work & Career              34\n",
       "                 Literature                 34\n",
       "                 Travel & Commute           34\n",
       "                 Family & Relationships     34\n",
       "                 Holidays & Celebrations    33\n",
       "                 Culture                    25\n",
       "                 Housing & Lifestyle        23\n",
       "                 Health & Wellness          23\n",
       "                 Environment & Nature       23\n",
       "                 Spirituality & Religion    23\n",
       "                 Technology                 23\n",
       "                 Daily Activities           20\n",
       "                 Cultural Preferences       20\n",
       "                 History                     3\n",
       "                 Healthcare                  3\n",
       "                 Geography                   3\n",
       "                 Economy                     3\n",
       "Name: count, dtype: int64"
      ]
     },
     "execution_count": 36,
     "metadata": {},
     "output_type": "execute_result"
    }
   ],
   "source": [
    "filtered_df_gpt = final_data[final_data['source_us'] == 'GPT-4 generated']\n",
    "category_counts_gpt = filtered_df_gpt.groupby('source_us')['category'].value_counts()\n",
    "category_counts_gpt"
   ]
  },
  {
   "cell_type": "code",
   "execution_count": 37,
   "metadata": {},
   "outputs": [
    {
     "name": "stdout",
     "output_type": "stream",
     "text": [
      "source_us                         category                    \n",
      "Anthropic: GAS; answers from GPT  D. Politics and policy          309\n",
      "                                  O. Regions and countries        123\n",
      "                                  G. International affairs         81\n",
      "                                  N. Economy and work              44\n",
      "                                  B. Religion and spirituality     41\n",
      "                                                                 ... \n",
      "GPT-4 generated                   Daily Activities                 20\n",
      "                                  Geography                         3\n",
      "                                  Healthcare                        3\n",
      "                                  History                           3\n",
      "                                  Economy                           3\n",
      "Name: count, Length: 77, dtype: int64\n"
     ]
    }
   ],
   "source": [
    "print(final_data.groupby('source_us')['category'].value_counts())"
   ]
  },
  {
   "cell_type": "code",
   "execution_count": 38,
   "metadata": {},
   "outputs": [
    {
     "name": "stdout",
     "output_type": "stream",
     "text": [
      "source_uk\n",
      "Anthropic: GAS; answers from GPT                                  19\n",
      "Anthropic: WVS; answers from GPT                                  16\n",
      "GPT / https://www.anadventurousworld.com/usa-trivia-questions/     8\n",
      "GPT / https://www.beelovedcity.com/england-quiz                    8\n",
      "GPT-4 generated                                                   26\n",
      "Name: category, dtype: int64\n"
     ]
    }
   ],
   "source": [
    "print(final_data.groupby('source_uk')['category'].nunique())"
   ]
  },
  {
   "cell_type": "code",
   "execution_count": 39,
   "metadata": {},
   "outputs": [],
   "source": [
    "categories = final_data.groupby('source_us')['category'].unique().reset_index()"
   ]
  },
  {
   "cell_type": "code",
   "execution_count": 40,
   "metadata": {},
   "outputs": [
    {
     "data": {
      "text/plain": [
       "array(['Miscellaneous', 'Sports & Recreation', 'Politics', 'Food & Drink',\n",
       "       'Daily Activities', 'Cultural Preferences', 'Geography', 'History',\n",
       "       'Economy', 'Education', 'Healthcare', 'Culture',\n",
       "       'Media & Entertainment', 'Music & Arts', 'Fashion & Style',\n",
       "       'Literature', 'Social Norms & Behavior', 'Holidays & Celebrations',\n",
       "       'Family & Relationships', 'Travel & Commute', 'Work & Career',\n",
       "       'Technology', 'Environment & Nature', 'Health & Wellness',\n",
       "       'Spirituality & Religion', 'Housing & Lifestyle'], dtype=object)"
      ]
     },
     "execution_count": 40,
     "metadata": {},
     "output_type": "execute_result"
    }
   ],
   "source": [
    "categories.category[4]"
   ]
  },
  {
   "cell_type": "code",
   "execution_count": 41,
   "metadata": {},
   "outputs": [
    {
     "data": {
      "text/plain": [
       "source_us\n",
       "GPT-4 generated                                                   744\n",
       "Anthropic: GAS; answers from GPT                                  739\n",
       "Anthropic: WVS; answers from GPT                                  335\n",
       "GPT / https://www.beelovedcity.com/england-quiz                    74\n",
       "GPT / https://www.anadventurousworld.com/usa-trivia-questions/     30\n",
       "Name: count, dtype: int64"
      ]
     },
     "execution_count": 41,
     "metadata": {},
     "output_type": "execute_result"
    }
   ],
   "source": [
    "\n",
    "final_data['source_us'].value_counts()"
   ]
  },
  {
   "cell_type": "code",
   "execution_count": 42,
   "metadata": {},
   "outputs": [],
   "source": [
    "final_data['answer_us'] = final_data['answer_us'].astype(str)"
   ]
  },
  {
   "cell_type": "markdown",
   "metadata": {},
   "source": []
  },
  {
   "cell_type": "code",
   "execution_count": 43,
   "metadata": {},
   "outputs": [],
   "source": [
    "def count_words(text):\n",
    "    words = text.split()\n",
    "    return len(words)\n",
    "\n",
    "final_data['# words per question'] = final_data['question'].apply(count_words)\n",
    "final_data['# words per answer_uk'] = final_data['answer_uk'].apply(count_words)\n",
    "final_data['# words per answer_us'] = final_data['answer_us'].apply(count_words)\n",
    "\n",
    "\n",
    "# Group by 'group' column and calculate the average word count\n",
    "result_q = final_data.groupby('source_us')['# words per question'].mean().reset_index()\n",
    "result_uk = final_data.groupby('source_us')['# words per answer_uk'].mean().reset_index()\n",
    "result_us = final_data.groupby('source_us')['# words per answer_us'].mean().reset_index()"
   ]
  },
  {
   "cell_type": "code",
   "execution_count": 44,
   "metadata": {},
   "outputs": [
    {
     "data": {
      "text/html": [
       "<div>\n",
       "<style scoped>\n",
       "    .dataframe tbody tr th:only-of-type {\n",
       "        vertical-align: middle;\n",
       "    }\n",
       "\n",
       "    .dataframe tbody tr th {\n",
       "        vertical-align: top;\n",
       "    }\n",
       "\n",
       "    .dataframe thead th {\n",
       "        text-align: right;\n",
       "    }\n",
       "</style>\n",
       "<table border=\"1\" class=\"dataframe\">\n",
       "  <thead>\n",
       "    <tr style=\"text-align: right;\">\n",
       "      <th></th>\n",
       "      <th>source_us</th>\n",
       "      <th># words per answer_us</th>\n",
       "    </tr>\n",
       "  </thead>\n",
       "  <tbody>\n",
       "    <tr>\n",
       "      <th>0</th>\n",
       "      <td>Anthropic: GAS; answers from GPT</td>\n",
       "      <td>2.541272</td>\n",
       "    </tr>\n",
       "    <tr>\n",
       "      <th>1</th>\n",
       "      <td>Anthropic: WVS; answers from GPT</td>\n",
       "      <td>6.241791</td>\n",
       "    </tr>\n",
       "    <tr>\n",
       "      <th>2</th>\n",
       "      <td>GPT / https://www.anadventurousworld.com/usa-t...</td>\n",
       "      <td>17.133333</td>\n",
       "    </tr>\n",
       "    <tr>\n",
       "      <th>3</th>\n",
       "      <td>GPT / https://www.beelovedcity.com/england-quiz</td>\n",
       "      <td>18.351351</td>\n",
       "    </tr>\n",
       "    <tr>\n",
       "      <th>4</th>\n",
       "      <td>GPT-4 generated</td>\n",
       "      <td>6.241935</td>\n",
       "    </tr>\n",
       "  </tbody>\n",
       "</table>\n",
       "</div>"
      ],
      "text/plain": [
       "                                           source_us  # words per answer_us\n",
       "0                   Anthropic: GAS; answers from GPT               2.541272\n",
       "1                   Anthropic: WVS; answers from GPT               6.241791\n",
       "2  GPT / https://www.anadventurousworld.com/usa-t...              17.133333\n",
       "3    GPT / https://www.beelovedcity.com/england-quiz              18.351351\n",
       "4                                    GPT-4 generated               6.241935"
      ]
     },
     "execution_count": 44,
     "metadata": {},
     "output_type": "execute_result"
    }
   ],
   "source": [
    "result_us"
   ]
  },
  {
   "cell_type": "code",
   "execution_count": 54,
   "metadata": {},
   "outputs": [],
   "source": [
    "filtered_df_wvs.to_csv('final_data_wvs.csv', sep=\";\")"
   ]
  },
  {
   "cell_type": "code",
   "execution_count": 51,
   "metadata": {},
   "outputs": [
    {
     "name": "stderr",
     "output_type": "stream",
     "text": [
      "/var/folders/tq/vxytrqv13kx3fp71v2wgtd000000gn/T/ipykernel_24459/3980999438.py:1: SettingWithCopyWarning: \n",
      "A value is trying to be set on a copy of a slice from a DataFrame.\n",
      "Try using .loc[row_indexer,col_indexer] = value instead\n",
      "\n",
      "See the caveats in the documentation: https://pandas.pydata.org/pandas-docs/stable/user_guide/indexing.html#returning-a-view-versus-a-copy\n",
      "  filtered_df_wvs ['question type'] = ''\n"
     ]
    }
   ],
   "source": [
    "filtered_df_wvs ['question type'] = ''"
   ]
  },
  {
   "cell_type": "code",
   "execution_count": 63,
   "metadata": {},
   "outputs": [
    {
     "data": {
      "text/plain": [
       "'Now I\\'d like you to tell me your views on corruption – when people pay a bribe, give a gift or do a favor to other people in order to get the things they need done or the services they need. How would you place your views on corruption in [your country] on a 10-point scale where “1” means “there is no corruption in [my country]” and “10” means “there is\\r\\nabundant corruption in [my country]”. If your views are somewhat mixed, choose the appropriate number in between.. These are the options: [\\'1 There is no corruption in my country\\', \\'2\\', \\'3\\', \\'4\\', \\'5\\', \\'6\\', \\'7\\', \\'8\\', \\'9\\', \\'10 There is abundant corruption in my country\\', \"Don\\'t know\", \\'No answer\\', \\'Missing; Not available\\']'"
      ]
     },
     "execution_count": 63,
     "metadata": {},
     "output_type": "execute_result"
    }
   ],
   "source": [
    "filtered_df_wvs['question'][1814]"
   ]
  },
  {
   "cell_type": "code",
   "execution_count": 58,
   "metadata": {},
   "outputs": [
    {
     "data": {
      "text/html": [
       "<div>\n",
       "<style scoped>\n",
       "    .dataframe tbody tr th:only-of-type {\n",
       "        vertical-align: middle;\n",
       "    }\n",
       "\n",
       "    .dataframe tbody tr th {\n",
       "        vertical-align: top;\n",
       "    }\n",
       "\n",
       "    .dataframe thead th {\n",
       "        text-align: right;\n",
       "    }\n",
       "</style>\n",
       "<table border=\"1\" class=\"dataframe\">\n",
       "  <thead>\n",
       "    <tr style=\"text-align: right;\">\n",
       "      <th></th>\n",
       "      <th>source_uk</th>\n",
       "      <th>source_us</th>\n",
       "      <th>category</th>\n",
       "      <th>question</th>\n",
       "      <th>answer_uk</th>\n",
       "      <th>answer_us</th>\n",
       "      <th>question type</th>\n",
       "    </tr>\n",
       "  </thead>\n",
       "  <tbody>\n",
       "    <tr>\n",
       "      <th>1483</th>\n",
       "      <td>Anthropic: WVS; answers from GPT</td>\n",
       "      <td>Anthropic: WVS; answers from GPT</td>\n",
       "      <td>D. Politics and policy</td>\n",
       "      <td>How satisfied are you with the following?\\r\\n\\...</td>\n",
       "      <td>The level of satisfaction with the way local a...</td>\n",
       "      <td>The answer may vary depending on the individua...</td>\n",
       "      <td></td>\n",
       "    </tr>\n",
       "    <tr>\n",
       "      <th>1484</th>\n",
       "      <td>Anthropic: WVS; answers from GPT</td>\n",
       "      <td>Anthropic: WVS; answers from GPT</td>\n",
       "      <td>I. Gender and LGBTQ</td>\n",
       "      <td>Please tell us if you strongly agree, agree, d...</td>\n",
       "      <td>Disagree</td>\n",
       "      <td>Disagree</td>\n",
       "      <td></td>\n",
       "    </tr>\n",
       "    <tr>\n",
       "      <th>1485</th>\n",
       "      <td>Anthropic: WVS; answers from GPT</td>\n",
       "      <td>Anthropic: WVS; answers from GPT</td>\n",
       "      <td>L. Family and relationships</td>\n",
       "      <td>Please tell us if you strongly agree, agree, d...</td>\n",
       "      <td>Disagree</td>\n",
       "      <td>Disagree</td>\n",
       "      <td></td>\n",
       "    </tr>\n",
       "    <tr>\n",
       "      <th>1486</th>\n",
       "      <td>Anthropic: WVS; answers from GPT</td>\n",
       "      <td>Anthropic: WVS; answers from GPT</td>\n",
       "      <td>D. Politics and policy</td>\n",
       "      <td>In your view, how often do the following thing...</td>\n",
       "      <td>Not often</td>\n",
       "      <td>Not often</td>\n",
       "      <td></td>\n",
       "    </tr>\n",
       "    <tr>\n",
       "      <th>1487</th>\n",
       "      <td>Anthropic: WVS; answers from GPT</td>\n",
       "      <td>Anthropic: WVS; answers from GPT</td>\n",
       "      <td>O. Regions and countries</td>\n",
       "      <td>I am going to name a number of organizations. ...</td>\n",
       "      <td>Don't know</td>\n",
       "      <td>Not very much confidence.</td>\n",
       "      <td></td>\n",
       "    </tr>\n",
       "    <tr>\n",
       "      <th>...</th>\n",
       "      <td>...</td>\n",
       "      <td>...</td>\n",
       "      <td>...</td>\n",
       "      <td>...</td>\n",
       "      <td>...</td>\n",
       "      <td>...</td>\n",
       "      <td>...</td>\n",
       "    </tr>\n",
       "    <tr>\n",
       "      <th>1813</th>\n",
       "      <td>Anthropic: WVS; answers from GPT</td>\n",
       "      <td>Anthropic: WVS; answers from GPT</td>\n",
       "      <td>A. Social values and attitudes</td>\n",
       "      <td>Here is a list of qualities that children can ...</td>\n",
       "      <td>Important</td>\n",
       "      <td>Important</td>\n",
       "      <td></td>\n",
       "    </tr>\n",
       "    <tr>\n",
       "      <th>1814</th>\n",
       "      <td>Anthropic: WVS; answers from GPT</td>\n",
       "      <td>Anthropic: WVS; answers from GPT</td>\n",
       "      <td>D. Politics and policy</td>\n",
       "      <td>Now I'd like you to tell me your views on corr...</td>\n",
       "      <td>4</td>\n",
       "      <td>5</td>\n",
       "      <td></td>\n",
       "    </tr>\n",
       "    <tr>\n",
       "      <th>1815</th>\n",
       "      <td>Anthropic: WVS; answers from GPT</td>\n",
       "      <td>Anthropic: WVS; answers from GPT</td>\n",
       "      <td>K. Immigration and migration</td>\n",
       "      <td>From your point of view, what have been the ef...</td>\n",
       "      <td>Agree</td>\n",
       "      <td>Agree</td>\n",
       "      <td></td>\n",
       "    </tr>\n",
       "    <tr>\n",
       "      <th>1816</th>\n",
       "      <td>Anthropic: WVS; answers from GPT</td>\n",
       "      <td>Anthropic: WVS; answers from GPT</td>\n",
       "      <td>A. Social values and attitudes</td>\n",
       "      <td>Of 100 people in your community, how many of y...</td>\n",
       "      <td>81-100</td>\n",
       "      <td>It is difficult to provide an exact number wit...</td>\n",
       "      <td></td>\n",
       "    </tr>\n",
       "    <tr>\n",
       "      <th>1817</th>\n",
       "      <td>Anthropic: WVS; answers from GPT</td>\n",
       "      <td>Anthropic: WVS; answers from GPT</td>\n",
       "      <td>Q. Security</td>\n",
       "      <td>To what degree are you worried about the follo...</td>\n",
       "      <td>Not much.</td>\n",
       "      <td>Not much.</td>\n",
       "      <td></td>\n",
       "    </tr>\n",
       "  </tbody>\n",
       "</table>\n",
       "<p>335 rows × 7 columns</p>\n",
       "</div>"
      ],
      "text/plain": [
       "                             source_uk                         source_us  \\\n",
       "1483  Anthropic: WVS; answers from GPT  Anthropic: WVS; answers from GPT   \n",
       "1484  Anthropic: WVS; answers from GPT  Anthropic: WVS; answers from GPT   \n",
       "1485  Anthropic: WVS; answers from GPT  Anthropic: WVS; answers from GPT   \n",
       "1486  Anthropic: WVS; answers from GPT  Anthropic: WVS; answers from GPT   \n",
       "1487  Anthropic: WVS; answers from GPT  Anthropic: WVS; answers from GPT   \n",
       "...                                ...                               ...   \n",
       "1813  Anthropic: WVS; answers from GPT  Anthropic: WVS; answers from GPT   \n",
       "1814  Anthropic: WVS; answers from GPT  Anthropic: WVS; answers from GPT   \n",
       "1815  Anthropic: WVS; answers from GPT  Anthropic: WVS; answers from GPT   \n",
       "1816  Anthropic: WVS; answers from GPT  Anthropic: WVS; answers from GPT   \n",
       "1817  Anthropic: WVS; answers from GPT  Anthropic: WVS; answers from GPT   \n",
       "\n",
       "                            category  \\\n",
       "1483          D. Politics and policy   \n",
       "1484             I. Gender and LGBTQ   \n",
       "1485     L. Family and relationships   \n",
       "1486          D. Politics and policy   \n",
       "1487        O. Regions and countries   \n",
       "...                              ...   \n",
       "1813  A. Social values and attitudes   \n",
       "1814          D. Politics and policy   \n",
       "1815    K. Immigration and migration   \n",
       "1816  A. Social values and attitudes   \n",
       "1817                     Q. Security   \n",
       "\n",
       "                                               question  \\\n",
       "1483  How satisfied are you with the following?\\r\\n\\...   \n",
       "1484  Please tell us if you strongly agree, agree, d...   \n",
       "1485  Please tell us if you strongly agree, agree, d...   \n",
       "1486  In your view, how often do the following thing...   \n",
       "1487  I am going to name a number of organizations. ...   \n",
       "...                                                 ...   \n",
       "1813  Here is a list of qualities that children can ...   \n",
       "1814  Now I'd like you to tell me your views on corr...   \n",
       "1815  From your point of view, what have been the ef...   \n",
       "1816  Of 100 people in your community, how many of y...   \n",
       "1817  To what degree are you worried about the follo...   \n",
       "\n",
       "                                              answer_uk  \\\n",
       "1483  The level of satisfaction with the way local a...   \n",
       "1484                                           Disagree   \n",
       "1485                                           Disagree   \n",
       "1486                                          Not often   \n",
       "1487                                         Don't know   \n",
       "...                                                 ...   \n",
       "1813                                          Important   \n",
       "1814                                                  4   \n",
       "1815                                              Agree   \n",
       "1816                                             81-100   \n",
       "1817                                          Not much.   \n",
       "\n",
       "                                              answer_us question type  \n",
       "1483  The answer may vary depending on the individua...                \n",
       "1484                                           Disagree                \n",
       "1485                                           Disagree                \n",
       "1486                                          Not often                \n",
       "1487                          Not very much confidence.                \n",
       "...                                                 ...           ...  \n",
       "1813                                          Important                \n",
       "1814                                                  5                \n",
       "1815                                              Agree                \n",
       "1816  It is difficult to provide an exact number wit...                \n",
       "1817                                          Not much.                \n",
       "\n",
       "[335 rows x 7 columns]"
      ]
     },
     "execution_count": 58,
     "metadata": {},
     "output_type": "execute_result"
    }
   ],
   "source": [
    "filtered_df_wvs"
   ]
  },
  {
   "cell_type": "code",
   "execution_count": null,
   "metadata": {},
   "outputs": [],
   "source": []
  }
 ],
 "metadata": {
  "kernelspec": {
   "display_name": "test",
   "language": "python",
   "name": "python3"
  },
  "language_info": {
   "codemirror_mode": {
    "name": "ipython",
    "version": 3
   },
   "file_extension": ".py",
   "mimetype": "text/x-python",
   "name": "python",
   "nbconvert_exporter": "python",
   "pygments_lexer": "ipython3",
   "version": "3.10.12"
  },
  "orig_nbformat": 4
 },
 "nbformat": 4,
 "nbformat_minor": 2
}
