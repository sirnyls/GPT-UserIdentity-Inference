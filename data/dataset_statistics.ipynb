{
 "cells": [
  {
   "cell_type": "code",
   "execution_count": 32,
   "metadata": {},
   "outputs": [
    {
     "data": {
      "text/html": [
       "<div>\n",
       "<style scoped>\n",
       "    .dataframe tbody tr th:only-of-type {\n",
       "        vertical-align: middle;\n",
       "    }\n",
       "\n",
       "    .dataframe tbody tr th {\n",
       "        vertical-align: top;\n",
       "    }\n",
       "\n",
       "    .dataframe thead th {\n",
       "        text-align: right;\n",
       "    }\n",
       "</style>\n",
       "<table border=\"1\" class=\"dataframe\">\n",
       "  <thead>\n",
       "    <tr style=\"text-align: right;\">\n",
       "      <th></th>\n",
       "      <th>source_uk</th>\n",
       "      <th>source_us</th>\n",
       "      <th>category</th>\n",
       "      <th>question</th>\n",
       "      <th>answer_uk</th>\n",
       "      <th>answer_us</th>\n",
       "    </tr>\n",
       "  </thead>\n",
       "  <tbody>\n",
       "    <tr>\n",
       "      <th>0</th>\n",
       "      <td>GPT-4 generated</td>\n",
       "      <td>GPT-4 generated</td>\n",
       "      <td>Miscellaneous</td>\n",
       "      <td>What's the first floor of a building?</td>\n",
       "      <td>The first floor is the floor above the ground ...</td>\n",
       "      <td>The first floor is the ground floor.</td>\n",
       "    </tr>\n",
       "    <tr>\n",
       "      <th>1</th>\n",
       "      <td>GPT-4 generated</td>\n",
       "      <td>GPT-4 generated</td>\n",
       "      <td>Miscellaneous</td>\n",
       "      <td>What do you call the rear compartment of a car?</td>\n",
       "      <td>The boot.</td>\n",
       "      <td>The trunk.</td>\n",
       "    </tr>\n",
       "    <tr>\n",
       "      <th>2</th>\n",
       "      <td>GPT-4 generated</td>\n",
       "      <td>GPT-4 generated</td>\n",
       "      <td>Miscellaneous</td>\n",
       "      <td>What do you call the front part of the car whe...</td>\n",
       "      <td>The bonnet.</td>\n",
       "      <td>The hood.</td>\n",
       "    </tr>\n",
       "    <tr>\n",
       "      <th>3</th>\n",
       "      <td>GPT-4 generated</td>\n",
       "      <td>GPT-4 generated</td>\n",
       "      <td>Miscellaneous</td>\n",
       "      <td>What's a biscuit?</td>\n",
       "      <td>A sweet baked item similar to what Americans w...</td>\n",
       "      <td>A soft leavened bread product often served wit...</td>\n",
       "    </tr>\n",
       "    <tr>\n",
       "      <th>4</th>\n",
       "      <td>GPT-4 generated</td>\n",
       "      <td>GPT-4 generated</td>\n",
       "      <td>Miscellaneous</td>\n",
       "      <td>What do you call the long seat in a park?</td>\n",
       "      <td>A bench.</td>\n",
       "      <td>Usually a bench as well but sometimes also ref...</td>\n",
       "    </tr>\n",
       "    <tr>\n",
       "      <th>...</th>\n",
       "      <td>...</td>\n",
       "      <td>...</td>\n",
       "      <td>...</td>\n",
       "      <td>...</td>\n",
       "      <td>...</td>\n",
       "      <td>...</td>\n",
       "    </tr>\n",
       "    <tr>\n",
       "      <th>1917</th>\n",
       "      <td>GPT / https://www.anadventurousworld.com/usa-t...</td>\n",
       "      <td>GPT / https://www.anadventurousworld.com/usa-t...</td>\n",
       "      <td>Education</td>\n",
       "      <td>What was the first school founded in any country?</td>\n",
       "      <td>The first school in any country is believed to...</td>\n",
       "      <td>The first school in the United States was the ...</td>\n",
       "    </tr>\n",
       "    <tr>\n",
       "      <th>1918</th>\n",
       "      <td>GPT / https://www.anadventurousworld.com/usa-t...</td>\n",
       "      <td>GPT / https://www.anadventurousworld.com/usa-t...</td>\n",
       "      <td>Entertainment</td>\n",
       "      <td>When was the first public opening of a Disneyl...</td>\n",
       "      <td>The first Disneyland theme park was publicly o...</td>\n",
       "      <td>The first public opening of a Disneyland theme...</td>\n",
       "    </tr>\n",
       "    <tr>\n",
       "      <th>1919</th>\n",
       "      <td>GPT / https://www.anadventurousworld.com/usa-t...</td>\n",
       "      <td>GPT / https://www.anadventurousworld.com/usa-t...</td>\n",
       "      <td>History</td>\n",
       "      <td>Where was the first World Fair held in 1853?</td>\n",
       "      <td>The first World Fair was not held in the UK in...</td>\n",
       "      <td>The first World Fair in 1853 was held in New Y...</td>\n",
       "    </tr>\n",
       "    <tr>\n",
       "      <th>1920</th>\n",
       "      <td>GPT / https://www.anadventurousworld.com/usa-t...</td>\n",
       "      <td>GPT / https://www.anadventurousworld.com/usa-t...</td>\n",
       "      <td>Sports &amp; Recreation</td>\n",
       "      <td>How many national championships has the most s...</td>\n",
       "      <td>The question is a bit vague as it doesn't spec...</td>\n",
       "      <td>The question is a bit ambiguous as it doesn't ...</td>\n",
       "    </tr>\n",
       "    <tr>\n",
       "      <th>1921</th>\n",
       "      <td>GPT / https://www.anadventurousworld.com/usa-t...</td>\n",
       "      <td>GPT / https://www.anadventurousworld.com/usa-t...</td>\n",
       "      <td>Food &amp; Drink</td>\n",
       "      <td>What is the average annual pizza consumption p...</td>\n",
       "      <td>In the United Kingdom, the average person cons...</td>\n",
       "      <td>In the United States, the average annual pizza...</td>\n",
       "    </tr>\n",
       "  </tbody>\n",
       "</table>\n",
       "<p>1922 rows × 6 columns</p>\n",
       "</div>"
      ],
      "text/plain": [
       "                                              source_uk  \\\n",
       "0                                       GPT-4 generated   \n",
       "1                                       GPT-4 generated   \n",
       "2                                       GPT-4 generated   \n",
       "3                                       GPT-4 generated   \n",
       "4                                       GPT-4 generated   \n",
       "...                                                 ...   \n",
       "1917  GPT / https://www.anadventurousworld.com/usa-t...   \n",
       "1918  GPT / https://www.anadventurousworld.com/usa-t...   \n",
       "1919  GPT / https://www.anadventurousworld.com/usa-t...   \n",
       "1920  GPT / https://www.anadventurousworld.com/usa-t...   \n",
       "1921  GPT / https://www.anadventurousworld.com/usa-t...   \n",
       "\n",
       "                                              source_us             category  \\\n",
       "0                                       GPT-4 generated        Miscellaneous   \n",
       "1                                       GPT-4 generated        Miscellaneous   \n",
       "2                                       GPT-4 generated        Miscellaneous   \n",
       "3                                       GPT-4 generated        Miscellaneous   \n",
       "4                                       GPT-4 generated        Miscellaneous   \n",
       "...                                                 ...                  ...   \n",
       "1917  GPT / https://www.anadventurousworld.com/usa-t...            Education   \n",
       "1918  GPT / https://www.anadventurousworld.com/usa-t...        Entertainment   \n",
       "1919  GPT / https://www.anadventurousworld.com/usa-t...              History   \n",
       "1920  GPT / https://www.anadventurousworld.com/usa-t...  Sports & Recreation   \n",
       "1921  GPT / https://www.anadventurousworld.com/usa-t...         Food & Drink   \n",
       "\n",
       "                                               question  \\\n",
       "0                 What's the first floor of a building?   \n",
       "1       What do you call the rear compartment of a car?   \n",
       "2     What do you call the front part of the car whe...   \n",
       "3                                     What's a biscuit?   \n",
       "4             What do you call the long seat in a park?   \n",
       "...                                                 ...   \n",
       "1917  What was the first school founded in any country?   \n",
       "1918  When was the first public opening of a Disneyl...   \n",
       "1919       Where was the first World Fair held in 1853?   \n",
       "1920  How many national championships has the most s...   \n",
       "1921  What is the average annual pizza consumption p...   \n",
       "\n",
       "                                              answer_uk  \\\n",
       "0     The first floor is the floor above the ground ...   \n",
       "1                                             The boot.   \n",
       "2                                           The bonnet.   \n",
       "3     A sweet baked item similar to what Americans w...   \n",
       "4                                              A bench.   \n",
       "...                                                 ...   \n",
       "1917  The first school in any country is believed to...   \n",
       "1918  The first Disneyland theme park was publicly o...   \n",
       "1919  The first World Fair was not held in the UK in...   \n",
       "1920  The question is a bit vague as it doesn't spec...   \n",
       "1921  In the United Kingdom, the average person cons...   \n",
       "\n",
       "                                              answer_us  \n",
       "0                  The first floor is the ground floor.  \n",
       "1                                            The trunk.  \n",
       "2                                             The hood.  \n",
       "3     A soft leavened bread product often served wit...  \n",
       "4     Usually a bench as well but sometimes also ref...  \n",
       "...                                                 ...  \n",
       "1917  The first school in the United States was the ...  \n",
       "1918  The first public opening of a Disneyland theme...  \n",
       "1919  The first World Fair in 1853 was held in New Y...  \n",
       "1920  The question is a bit ambiguous as it doesn't ...  \n",
       "1921  In the United States, the average annual pizza...  \n",
       "\n",
       "[1922 rows x 6 columns]"
      ]
     },
     "execution_count": 32,
     "metadata": {},
     "output_type": "execute_result"
    }
   ],
   "source": [
    "import pandas as pd\n",
    "from IPython.core.interactiveshell import InteractiveShell\n",
    "InteractiveShell.ast_node_interactivity = \"all\"\n",
    "final_data = pd.read_csv('final_data.csv', sep=';')\n",
    "final_data"
   ]
  },
  {
   "cell_type": "markdown",
   "metadata": {},
   "source": [
    "#### WVS Categories"
   ]
  },
  {
   "cell_type": "code",
   "execution_count": 33,
   "metadata": {},
   "outputs": [
    {
     "data": {
      "text/plain": [
       "source_us                         category                      \n",
       "Anthropic: WVS; answers from GPT  D. Politics and policy            94\n",
       "                                  A. Social values and attitudes    81\n",
       "                                  I. Gender and LGBTQ               29\n",
       "                                  N. Economy and work               23\n",
       "                                  P. Methodological research        17\n",
       "                                  L. Family and relationships       15\n",
       "                                  B. Religion and spirituality      13\n",
       "                                  O. Regions and countries          13\n",
       "                                  G. International affairs          12\n",
       "                                  Q. Security                       11\n",
       "                                  K. Immigration and migration      10\n",
       "                                  C. Science and technology          9\n",
       "                                  J. News habits and media           3\n",
       "                                  E. Demographics                    2\n",
       "                                  H. Internet and technology         2\n",
       "                                  M. Race and ethnicity              1\n",
       "Name: count, dtype: int64"
      ]
     },
     "execution_count": 33,
     "metadata": {},
     "output_type": "execute_result"
    }
   ],
   "source": [
    "filtered_df_wvs = final_data[final_data['source_us'] == 'Anthropic: WVS; answers from GPT']\n",
    "category_counts_wvs = filtered_df_wvs.groupby('source_us')['category'].value_counts()\n",
    "category_counts_wvs"
   ]
  },
  {
   "cell_type": "markdown",
   "metadata": {},
   "source": [
    "#### Quiz categories"
   ]
  },
  {
   "cell_type": "code",
   "execution_count": 48,
   "metadata": {},
   "outputs": [
    {
     "data": {
      "text/plain": [
       "source_us                                                       category                \n",
       "GPT / https://www.anadventurousworld.com/usa-trivia-questions/  Geography                   12\n",
       "                                                                History                     11\n",
       "                                                                Sports & Recreation          2\n",
       "                                                                Animals                      1\n",
       "                                                                Education                    1\n",
       "                                                                Entertainment                1\n",
       "                                                                Food & Drink                 1\n",
       "                                                                Travel                       1\n",
       "GPT / https://www.beelovedcity.com/england-quiz                 History                     11\n",
       "                                                                Food & Drink                10\n",
       "                                                                General Knowledge Trivia    10\n",
       "                                                                Geography                   10\n",
       "                                                                Literature                  10\n",
       "                                                                Music & Arts                10\n",
       "                                                                Movies & TV Shows            9\n",
       "                                                                Sports & Recreation          4\n",
       "Name: count, dtype: int64"
      ]
     },
     "execution_count": 48,
     "metadata": {},
     "output_type": "execute_result"
    }
   ],
   "source": [
    "filtered_df_quiz = final_data.loc[(final_data['source_us'] == 'GPT / https://www.beelovedcity.com/england-quiz') | (final_data['source_us'] == 'GPT / https://www.anadventurousworld.com/usa-trivia-questions/')]\n",
    "category_counts_quiz = filtered_df_quiz.groupby('source_us')['category'].value_counts()\n",
    "category_counts_quiz"
   ]
  },
  {
   "cell_type": "markdown",
   "metadata": {},
   "source": [
    "#### GAS Categories"
   ]
  },
  {
   "cell_type": "code",
   "execution_count": 35,
   "metadata": {},
   "outputs": [
    {
     "data": {
      "text/plain": [
       "source_us                         category                      \n",
       "Anthropic: GAS; answers from GPT  D. Politics and policy            309\n",
       "                                  O. Regions and countries          123\n",
       "                                  G. International affairs           81\n",
       "                                  N. Economy and work                44\n",
       "                                  A. Social values and attitudes     41\n",
       "                                  B. Religion and spirituality       41\n",
       "                                  K. Immigration and migration       17\n",
       "                                  C. Science and technology          17\n",
       "                                  M. Race and ethnicity              16\n",
       "                                  H. Internet and technology         11\n",
       "                                  J. News habits and media           10\n",
       "                                  I. Gender and LGBTQ                 8\n",
       "                                  Q. Security                         8\n",
       "                                  E. Demographics                     4\n",
       "                                  P. Methodological research          4\n",
       "                                  L. Family and relationships         2\n",
       "                                  F. Generations and age              1\n",
       "                                  Methodological research             1\n",
       "                                  B. Social values and attitudes      1\n",
       "Name: count, dtype: int64"
      ]
     },
     "execution_count": 35,
     "metadata": {},
     "output_type": "execute_result"
    }
   ],
   "source": [
    "filtered_df_gas = final_data[final_data['source_us'] == 'Anthropic: GAS; answers from GPT']\n",
    "category_counts_gas = filtered_df_gas.groupby('source_us')['category'].value_counts()\n",
    "category_counts_gas"
   ]
  },
  {
   "cell_type": "markdown",
   "metadata": {},
   "source": [
    "#### GPT Categories"
   ]
  },
  {
   "cell_type": "code",
   "execution_count": 36,
   "metadata": {},
   "outputs": [
    {
     "data": {
      "text/plain": [
       "source_us        category               \n",
       "GPT-4 generated  Food & Drink               63\n",
       "                 Miscellaneous              55\n",
       "                 Sports & Recreation        48\n",
       "                 Education                  37\n",
       "                 Politics                   37\n",
       "                 Media & Entertainment      37\n",
       "                 Music & Arts               36\n",
       "                 Social Norms & Behavior    35\n",
       "                 Fashion & Style            35\n",
       "                 Work & Career              34\n",
       "                 Literature                 34\n",
       "                 Travel & Commute           34\n",
       "                 Family & Relationships     34\n",
       "                 Holidays & Celebrations    33\n",
       "                 Culture                    25\n",
       "                 Housing & Lifestyle        23\n",
       "                 Health & Wellness          23\n",
       "                 Environment & Nature       23\n",
       "                 Spirituality & Religion    23\n",
       "                 Technology                 23\n",
       "                 Daily Activities           20\n",
       "                 Cultural Preferences       20\n",
       "                 History                     3\n",
       "                 Healthcare                  3\n",
       "                 Geography                   3\n",
       "                 Economy                     3\n",
       "Name: count, dtype: int64"
      ]
     },
     "execution_count": 36,
     "metadata": {},
     "output_type": "execute_result"
    }
   ],
   "source": [
    "filtered_df_gpt = final_data[final_data['source_us'] == 'GPT-4 generated']\n",
    "category_counts_gpt = filtered_df_gpt.groupby('source_us')['category'].value_counts()\n",
    "category_counts_gpt"
   ]
  },
  {
   "cell_type": "code",
   "execution_count": 37,
   "metadata": {},
   "outputs": [
    {
     "name": "stdout",
     "output_type": "stream",
     "text": [
      "source_us                         category                    \n",
      "Anthropic: GAS; answers from GPT  D. Politics and policy          309\n",
      "                                  O. Regions and countries        123\n",
      "                                  G. International affairs         81\n",
      "                                  N. Economy and work              44\n",
      "                                  B. Religion and spirituality     41\n",
      "                                                                 ... \n",
      "GPT-4 generated                   Daily Activities                 20\n",
      "                                  Geography                         3\n",
      "                                  Healthcare                        3\n",
      "                                  History                           3\n",
      "                                  Economy                           3\n",
      "Name: count, Length: 77, dtype: int64\n"
     ]
    }
   ],
   "source": [
    "print(final_data.groupby('source_us')['category'].value_counts())"
   ]
  },
  {
   "cell_type": "code",
   "execution_count": 38,
   "metadata": {},
   "outputs": [
    {
     "name": "stdout",
     "output_type": "stream",
     "text": [
      "source_uk\n",
      "Anthropic: GAS; answers from GPT                                  19\n",
      "Anthropic: WVS; answers from GPT                                  16\n",
      "GPT / https://www.anadventurousworld.com/usa-trivia-questions/     8\n",
      "GPT / https://www.beelovedcity.com/england-quiz                    8\n",
      "GPT-4 generated                                                   26\n",
      "Name: category, dtype: int64\n"
     ]
    }
   ],
   "source": [
    "print(final_data.groupby('source_uk')['category'].nunique())"
   ]
  },
  {
   "cell_type": "code",
   "execution_count": 39,
   "metadata": {},
   "outputs": [],
   "source": [
    "categories = final_data.groupby('source_us')['category'].unique().reset_index()"
   ]
  },
  {
   "cell_type": "code",
   "execution_count": 40,
   "metadata": {},
   "outputs": [
    {
     "data": {
      "text/plain": [
       "array(['Miscellaneous', 'Sports & Recreation', 'Politics', 'Food & Drink',\n",
       "       'Daily Activities', 'Cultural Preferences', 'Geography', 'History',\n",
       "       'Economy', 'Education', 'Healthcare', 'Culture',\n",
       "       'Media & Entertainment', 'Music & Arts', 'Fashion & Style',\n",
       "       'Literature', 'Social Norms & Behavior', 'Holidays & Celebrations',\n",
       "       'Family & Relationships', 'Travel & Commute', 'Work & Career',\n",
       "       'Technology', 'Environment & Nature', 'Health & Wellness',\n",
       "       'Spirituality & Religion', 'Housing & Lifestyle'], dtype=object)"
      ]
     },
     "execution_count": 40,
     "metadata": {},
     "output_type": "execute_result"
    }
   ],
   "source": [
    "categories.category[4]"
   ]
  },
  {
   "cell_type": "code",
   "execution_count": 41,
   "metadata": {},
   "outputs": [
    {
     "data": {
      "text/plain": [
       "source_us\n",
       "GPT-4 generated                                                   744\n",
       "Anthropic: GAS; answers from GPT                                  739\n",
       "Anthropic: WVS; answers from GPT                                  335\n",
       "GPT / https://www.beelovedcity.com/england-quiz                    74\n",
       "GPT / https://www.anadventurousworld.com/usa-trivia-questions/     30\n",
       "Name: count, dtype: int64"
      ]
     },
     "execution_count": 41,
     "metadata": {},
     "output_type": "execute_result"
    }
   ],
   "source": [
    "\n",
    "final_data['source_us'].value_counts()"
   ]
  },
  {
   "cell_type": "code",
   "execution_count": 42,
   "metadata": {},
   "outputs": [],
   "source": [
    "final_data['answer_us'] = final_data['answer_us'].astype(str)"
   ]
  },
  {
   "cell_type": "markdown",
   "metadata": {},
   "source": []
  },
  {
   "cell_type": "code",
   "execution_count": 43,
   "metadata": {},
   "outputs": [],
   "source": [
    "def count_words(text):\n",
    "    words = text.split()\n",
    "    return len(words)\n",
    "\n",
    "final_data['# words per question'] = final_data['question'].apply(count_words)\n",
    "final_data['# words per answer_uk'] = final_data['answer_uk'].apply(count_words)\n",
    "final_data['# words per answer_us'] = final_data['answer_us'].apply(count_words)\n",
    "\n",
    "\n",
    "# Group by 'group' column and calculate the average word count\n",
    "result_q = final_data.groupby('source_us')['# words per question'].mean().reset_index()\n",
    "result_uk = final_data.groupby('source_us')['# words per answer_uk'].mean().reset_index()\n",
    "result_us = final_data.groupby('source_us')['# words per answer_us'].mean().reset_index()"
   ]
  },
  {
   "cell_type": "code",
   "execution_count": 44,
   "metadata": {},
   "outputs": [
    {
     "data": {
      "text/html": [
       "<div>\n",
       "<style scoped>\n",
       "    .dataframe tbody tr th:only-of-type {\n",
       "        vertical-align: middle;\n",
       "    }\n",
       "\n",
       "    .dataframe tbody tr th {\n",
       "        vertical-align: top;\n",
       "    }\n",
       "\n",
       "    .dataframe thead th {\n",
       "        text-align: right;\n",
       "    }\n",
       "</style>\n",
       "<table border=\"1\" class=\"dataframe\">\n",
       "  <thead>\n",
       "    <tr style=\"text-align: right;\">\n",
       "      <th></th>\n",
       "      <th>source_us</th>\n",
       "      <th># words per answer_us</th>\n",
       "    </tr>\n",
       "  </thead>\n",
       "  <tbody>\n",
       "    <tr>\n",
       "      <th>0</th>\n",
       "      <td>Anthropic: GAS; answers from GPT</td>\n",
       "      <td>2.541272</td>\n",
       "    </tr>\n",
       "    <tr>\n",
       "      <th>1</th>\n",
       "      <td>Anthropic: WVS; answers from GPT</td>\n",
       "      <td>6.241791</td>\n",
       "    </tr>\n",
       "    <tr>\n",
       "      <th>2</th>\n",
       "      <td>GPT / https://www.anadventurousworld.com/usa-t...</td>\n",
       "      <td>17.133333</td>\n",
       "    </tr>\n",
       "    <tr>\n",
       "      <th>3</th>\n",
       "      <td>GPT / https://www.beelovedcity.com/england-quiz</td>\n",
       "      <td>18.351351</td>\n",
       "    </tr>\n",
       "    <tr>\n",
       "      <th>4</th>\n",
       "      <td>GPT-4 generated</td>\n",
       "      <td>6.241935</td>\n",
       "    </tr>\n",
       "  </tbody>\n",
       "</table>\n",
       "</div>"
      ],
      "text/plain": [
       "                                           source_us  # words per answer_us\n",
       "0                   Anthropic: GAS; answers from GPT               2.541272\n",
       "1                   Anthropic: WVS; answers from GPT               6.241791\n",
       "2  GPT / https://www.anadventurousworld.com/usa-t...              17.133333\n",
       "3    GPT / https://www.beelovedcity.com/england-quiz              18.351351\n",
       "4                                    GPT-4 generated               6.241935"
      ]
     },
     "execution_count": 44,
     "metadata": {},
     "output_type": "execute_result"
    }
   ],
   "source": [
    "result_us"
   ]
  },
  {
   "cell_type": "code",
   "execution_count": 71,
   "metadata": {},
   "outputs": [],
   "source": [
    "gas_question_types = pd.read_csv('final_data_gas.csv', sep=';')\n",
    "wvs_question_types = pd.read_csv('final_data_wvs.csv', sep=';')"
   ]
  },
  {
   "cell_type": "code",
   "execution_count": 72,
   "metadata": {},
   "outputs": [
    {
     "data": {
      "text/html": [
       "<div>\n",
       "<style scoped>\n",
       "    .dataframe tbody tr th:only-of-type {\n",
       "        vertical-align: middle;\n",
       "    }\n",
       "\n",
       "    .dataframe tbody tr th {\n",
       "        vertical-align: top;\n",
       "    }\n",
       "\n",
       "    .dataframe thead th {\n",
       "        text-align: right;\n",
       "    }\n",
       "</style>\n",
       "<table border=\"1\" class=\"dataframe\">\n",
       "  <thead>\n",
       "    <tr style=\"text-align: right;\">\n",
       "      <th></th>\n",
       "      <th>Unnamed: 0</th>\n",
       "      <th>source_uk</th>\n",
       "      <th>source_us</th>\n",
       "      <th>category</th>\n",
       "      <th>question</th>\n",
       "      <th>answer_uk</th>\n",
       "      <th>answer_us</th>\n",
       "      <th>question type</th>\n",
       "    </tr>\n",
       "  </thead>\n",
       "  <tbody>\n",
       "    <tr>\n",
       "      <th>0</th>\n",
       "      <td>0</td>\n",
       "      <td>Anthropic: WVS; answers from GPT</td>\n",
       "      <td>Anthropic: WVS; answers from GPT</td>\n",
       "      <td>D. Politics and policy</td>\n",
       "      <td>How satisfied are you with the following?\\r\\n\\...</td>\n",
       "      <td>The level of satisfaction with the way local a...</td>\n",
       "      <td>The answer may vary depending on the individua...</td>\n",
       "      <td>Likert-scale (4)</td>\n",
       "    </tr>\n",
       "    <tr>\n",
       "      <th>1</th>\n",
       "      <td>1</td>\n",
       "      <td>Anthropic: WVS; answers from GPT</td>\n",
       "      <td>Anthropic: WVS; answers from GPT</td>\n",
       "      <td>I. Gender and LGBTQ</td>\n",
       "      <td>Please tell us if you strongly agree, agree, d...</td>\n",
       "      <td>Disagree</td>\n",
       "      <td>Disagree</td>\n",
       "      <td>Likert-scale (4)</td>\n",
       "    </tr>\n",
       "    <tr>\n",
       "      <th>2</th>\n",
       "      <td>2</td>\n",
       "      <td>Anthropic: WVS; answers from GPT</td>\n",
       "      <td>Anthropic: WVS; answers from GPT</td>\n",
       "      <td>L. Family and relationships</td>\n",
       "      <td>Please tell us if you strongly agree, agree, d...</td>\n",
       "      <td>Disagree</td>\n",
       "      <td>Disagree</td>\n",
       "      <td>Likert-scale (4).</td>\n",
       "    </tr>\n",
       "    <tr>\n",
       "      <th>4</th>\n",
       "      <td>4</td>\n",
       "      <td>Anthropic: WVS; answers from GPT</td>\n",
       "      <td>Anthropic: WVS; answers from GPT</td>\n",
       "      <td>O. Regions and countries</td>\n",
       "      <td>I am going to name a number of organizations. ...</td>\n",
       "      <td>Don't know</td>\n",
       "      <td>Not very much confidence.</td>\n",
       "      <td>Likert-scale (4)</td>\n",
       "    </tr>\n",
       "    <tr>\n",
       "      <th>5</th>\n",
       "      <td>5</td>\n",
       "      <td>Anthropic: WVS; answers from GPT</td>\n",
       "      <td>Anthropic: WVS; answers from GPT</td>\n",
       "      <td>L. Family and relationships</td>\n",
       "      <td>For each of the following statements I read ou...</td>\n",
       "      <td>Disagree</td>\n",
       "      <td>Disagree</td>\n",
       "      <td>This is a Likert-scale question with 4 levels ...</td>\n",
       "    </tr>\n",
       "    <tr>\n",
       "      <th>...</th>\n",
       "      <td>...</td>\n",
       "      <td>...</td>\n",
       "      <td>...</td>\n",
       "      <td>...</td>\n",
       "      <td>...</td>\n",
       "      <td>...</td>\n",
       "      <td>...</td>\n",
       "      <td>...</td>\n",
       "    </tr>\n",
       "    <tr>\n",
       "      <th>323</th>\n",
       "      <td>323</td>\n",
       "      <td>Anthropic: WVS; answers from GPT</td>\n",
       "      <td>Anthropic: WVS; answers from GPT</td>\n",
       "      <td>D. Politics and policy</td>\n",
       "      <td>How have your perceptions of corruption change...</td>\n",
       "      <td>Fairly</td>\n",
       "      <td>Fairly</td>\n",
       "      <td>Likert-scale (5): 'A lot', 'Fairly', 'Little',...</td>\n",
       "    </tr>\n",
       "    <tr>\n",
       "      <th>324</th>\n",
       "      <td>324</td>\n",
       "      <td>Anthropic: WVS; answers from GPT</td>\n",
       "      <td>Anthropic: WVS; answers from GPT</td>\n",
       "      <td>I. Gender and LGBTQ</td>\n",
       "      <td>For each of the following statements I read ou...</td>\n",
       "      <td>Agree</td>\n",
       "      <td>Agree</td>\n",
       "      <td>Likert-scale (4)</td>\n",
       "    </tr>\n",
       "    <tr>\n",
       "      <th>327</th>\n",
       "      <td>327</td>\n",
       "      <td>Anthropic: WVS; answers from GPT</td>\n",
       "      <td>Anthropic: WVS; answers from GPT</td>\n",
       "      <td>A. Social values and attitudes</td>\n",
       "      <td>Access to education is equal regardless of soc...</td>\n",
       "      <td>4</td>\n",
       "      <td>4</td>\n",
       "      <td>Likert-scale (9)</td>\n",
       "    </tr>\n",
       "    <tr>\n",
       "      <th>331</th>\n",
       "      <td>331</td>\n",
       "      <td>Anthropic: WVS; answers from GPT</td>\n",
       "      <td>Anthropic: WVS; answers from GPT</td>\n",
       "      <td>D. Politics and policy</td>\n",
       "      <td>Now I'd like you to tell me your views on corr...</td>\n",
       "      <td>4</td>\n",
       "      <td>5</td>\n",
       "      <td>Closed question (Likert-scale - 10 levels)</td>\n",
       "    </tr>\n",
       "    <tr>\n",
       "      <th>334</th>\n",
       "      <td>334</td>\n",
       "      <td>Anthropic: WVS; answers from GPT</td>\n",
       "      <td>Anthropic: WVS; answers from GPT</td>\n",
       "      <td>Q. Security</td>\n",
       "      <td>To what degree are you worried about the follo...</td>\n",
       "      <td>Not much.</td>\n",
       "      <td>Not much.</td>\n",
       "      <td>Likert-scale (5).</td>\n",
       "    </tr>\n",
       "  </tbody>\n",
       "</table>\n",
       "<p>232 rows × 8 columns</p>\n",
       "</div>"
      ],
      "text/plain": [
       "     Unnamed: 0                         source_uk  \\\n",
       "0             0  Anthropic: WVS; answers from GPT   \n",
       "1             1  Anthropic: WVS; answers from GPT   \n",
       "2             2  Anthropic: WVS; answers from GPT   \n",
       "4             4  Anthropic: WVS; answers from GPT   \n",
       "5             5  Anthropic: WVS; answers from GPT   \n",
       "..          ...                               ...   \n",
       "323         323  Anthropic: WVS; answers from GPT   \n",
       "324         324  Anthropic: WVS; answers from GPT   \n",
       "327         327  Anthropic: WVS; answers from GPT   \n",
       "331         331  Anthropic: WVS; answers from GPT   \n",
       "334         334  Anthropic: WVS; answers from GPT   \n",
       "\n",
       "                            source_us                        category  \\\n",
       "0    Anthropic: WVS; answers from GPT          D. Politics and policy   \n",
       "1    Anthropic: WVS; answers from GPT             I. Gender and LGBTQ   \n",
       "2    Anthropic: WVS; answers from GPT     L. Family and relationships   \n",
       "4    Anthropic: WVS; answers from GPT        O. Regions and countries   \n",
       "5    Anthropic: WVS; answers from GPT     L. Family and relationships   \n",
       "..                                ...                             ...   \n",
       "323  Anthropic: WVS; answers from GPT          D. Politics and policy   \n",
       "324  Anthropic: WVS; answers from GPT             I. Gender and LGBTQ   \n",
       "327  Anthropic: WVS; answers from GPT  A. Social values and attitudes   \n",
       "331  Anthropic: WVS; answers from GPT          D. Politics and policy   \n",
       "334  Anthropic: WVS; answers from GPT                     Q. Security   \n",
       "\n",
       "                                              question  \\\n",
       "0    How satisfied are you with the following?\\r\\n\\...   \n",
       "1    Please tell us if you strongly agree, agree, d...   \n",
       "2    Please tell us if you strongly agree, agree, d...   \n",
       "4    I am going to name a number of organizations. ...   \n",
       "5    For each of the following statements I read ou...   \n",
       "..                                                 ...   \n",
       "323  How have your perceptions of corruption change...   \n",
       "324  For each of the following statements I read ou...   \n",
       "327  Access to education is equal regardless of soc...   \n",
       "331  Now I'd like you to tell me your views on corr...   \n",
       "334  To what degree are you worried about the follo...   \n",
       "\n",
       "                                             answer_uk  \\\n",
       "0    The level of satisfaction with the way local a...   \n",
       "1                                             Disagree   \n",
       "2                                             Disagree   \n",
       "4                                           Don't know   \n",
       "5                                             Disagree   \n",
       "..                                                 ...   \n",
       "323                                             Fairly   \n",
       "324                                              Agree   \n",
       "327                                                  4   \n",
       "331                                                  4   \n",
       "334                                          Not much.   \n",
       "\n",
       "                                             answer_us  \\\n",
       "0    The answer may vary depending on the individua...   \n",
       "1                                             Disagree   \n",
       "2                                             Disagree   \n",
       "4                            Not very much confidence.   \n",
       "5                                             Disagree   \n",
       "..                                                 ...   \n",
       "323                                             Fairly   \n",
       "324                                              Agree   \n",
       "327                                                  4   \n",
       "331                                                  5   \n",
       "334                                          Not much.   \n",
       "\n",
       "                                         question type  \n",
       "0                                     Likert-scale (4)  \n",
       "1                                     Likert-scale (4)  \n",
       "2                                    Likert-scale (4).  \n",
       "4                                     Likert-scale (4)  \n",
       "5    This is a Likert-scale question with 4 levels ...  \n",
       "..                                                 ...  \n",
       "323  Likert-scale (5): 'A lot', 'Fairly', 'Little',...  \n",
       "324                                   Likert-scale (4)  \n",
       "327                                   Likert-scale (9)  \n",
       "331         Closed question (Likert-scale - 10 levels)  \n",
       "334                                  Likert-scale (5).  \n",
       "\n",
       "[232 rows x 8 columns]"
      ]
     },
     "execution_count": 72,
     "metadata": {},
     "output_type": "execute_result"
    }
   ],
   "source": [
    "#wvs_question_types[wvs_question_types['question type'].str.contains('Likert-scale')]\n",
    "## 232 questions with likert scale\n",
    "\n",
    "#gas_question_types[gas_question_types['question type'].str.contains('Likert-scale')]\n",
    "## 385 questions with likert scale\n"
   ]
  },
  {
   "cell_type": "code",
   "execution_count": null,
   "metadata": {},
   "outputs": [],
   "source": []
  },
  {
   "cell_type": "code",
   "execution_count": null,
   "metadata": {},
   "outputs": [],
   "source": []
  },
  {
   "cell_type": "code",
   "execution_count": null,
   "metadata": {},
   "outputs": [],
   "source": []
  },
  {
   "cell_type": "markdown",
   "metadata": {},
   "source": [
    "### Context generation"
   ]
  },
  {
   "cell_type": "markdown",
   "metadata": {},
   "source": [
    "Prompt: Create a context for category x. Make it 0-100% British/American by implanting words out of df."
   ]
  }
 ],
 "metadata": {
  "kernelspec": {
   "display_name": "test",
   "language": "python",
   "name": "python3"
  },
  "language_info": {
   "codemirror_mode": {
    "name": "ipython",
    "version": 3
   },
   "file_extension": ".py",
   "mimetype": "text/x-python",
   "name": "python",
   "nbconvert_exporter": "python",
   "pygments_lexer": "ipython3",
   "version": "3.10.12"
  },
  "orig_nbformat": 4
 },
 "nbformat": 4,
 "nbformat_minor": 2
}
