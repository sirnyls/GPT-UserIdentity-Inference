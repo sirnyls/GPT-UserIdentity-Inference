{
 "cells": [
  {
   "cell_type": "code",
   "execution_count": 1,
   "metadata": {},
   "outputs": [],
   "source": [
    "import pandas as pd\n",
    "import re\n",
    "data = pd.read_csv('essay_prompts.csv', sep=';')"
   ]
  },
  {
   "cell_type": "code",
   "execution_count": 12,
   "metadata": {},
   "outputs": [
    {
     "data": {
      "text/plain": [
       "str"
      ]
     },
     "execution_count": 12,
     "metadata": {},
     "output_type": "execute_result"
    }
   ],
   "source": []
  },
  {
   "cell_type": "code",
   "execution_count": 10,
   "metadata": {},
   "outputs": [],
   "source": [
    "linguistic sophistication. \n",
    "Text quality. \n",
    "Factuality. \n",
    "Grammatical mistakes."
   ]
  },
  {
   "cell_type": "markdown",
   "metadata": {},
   "source": []
  },
  {
   "cell_type": "code",
   "execution_count": 62,
   "metadata": {},
   "outputs": [
    {
     "name": "stderr",
     "output_type": "stream",
     "text": [
      "[nltk_data] Downloading package punkt to /Users/nils/nltk_data...\n",
      "[nltk_data]   Package punkt is already up-to-date!\n",
      "[nltk_data] Downloading package averaged_perceptron_tagger to\n",
      "[nltk_data]     /Users/nils/nltk_data...\n",
      "[nltk_data]   Package averaged_perceptron_tagger is already up-to-\n",
      "[nltk_data]       date!\n",
      "[nltk_data] Downloading package stopwords to /Users/nils/nltk_data...\n",
      "[nltk_data]   Package stopwords is already up-to-date!\n"
     ]
    },
    {
     "name": "stdout",
     "output_type": "stream",
     "text": [
      "50.050729450267234\n",
      "47.95736119624438\n"
     ]
    }
   ],
   "source": [
    "import textstat\n",
    "import nltk\n",
    "from nltk.tokenize import sent_tokenize, word_tokenize\n",
    "from nltk.probability import FreqDist\n",
    "from nltk.corpus import stopwords\n",
    "import language_tool_python \n",
    "import statistics\n",
    "\n",
    "# Download necessary NLTK data\n",
    "nltk.download('punkt')\n",
    "nltk.download('averaged_perceptron_tagger')\n",
    "nltk.download('stopwords')\n",
    "\n",
    "def analyze_essay(essay):\n",
    "    \"\"\"\n",
    "    Analyze various aspects of an essay for linguistic sophistication.\n",
    "\n",
    "    :param essay: A string containing the essay text.\n",
    "    :return: A dictionary with various metrics and an overall quality score.\n",
    "    \"\"\"\n",
    "    \n",
    "    lt = language_tool_python.LanguageToolPublicAPI('en-US')\n",
    "\n",
    "    # Readability and complexity metrics\n",
    "    flesch_reading_ease = textstat.flesch_reading_ease(essay)\n",
    "    smog_index = textstat.smog_index(essay)\n",
    "    flesch_kincaid_grade = textstat.flesch_kincaid_grade(essay)\n",
    "\n",
    "    # Tokenize essay into words and sentences\n",
    "    words = word_tokenize(essay)\n",
    "    sentences = sent_tokenize(essay)\n",
    "    unique_words = len(set(words))\n",
    "\n",
    "    # Lexical diversity\n",
    "    lexical_diversity = len(set(words)) / len(words) if words else 0\n",
    "\n",
    "    # Sentence length variability\n",
    "    sentence_lengths = [len(word_tokenize(sentence)) for sentence in sentences]\n",
    "    sentence_length_variability = statistics.stdev(sentence_lengths) if len(sentence_lengths) > 1 else 0\n",
    "\n",
    "    # Grammatical mistakes\n",
    "    matches = lt.check(essay)\n",
    "    grammar_errors = len(matches)\n",
    "\n",
    "    # Complexity of sentence structures (using POS tagging)\n",
    "    pos_tags = [pos for word, pos in nltk.pos_tag(words)]\n",
    "    complex_structures = pos_tags.count('JJ') + pos_tags.count('NNP') + pos_tags.count('VBD')\n",
    "\n",
    "    # Calculate overall quality score (example formula, can be customized)\n",
    "    overall_quality = (\n",
    "        (flesch_reading_ease + 100 - smog_index + 100 - flesch_kincaid_grade) +\n",
    "        (lexical_diversity * 100 + unique_words * 0.5) - \n",
    "        (grammar_errors + sentence_length_variability - complex_structures)\n",
    "    ) / 8\n",
    "\n",
    "    return overall_quality\n",
    "\"\"\"\n",
    "    {\n",
    "        \"flesch_reading_ease\": flesch_reading_ease,\n",
    "        \"smog_index\": smog_index,\n",
    "        \"flesch_kincaid_grade\": flesch_kincaid_grade,\n",
    "        \"unique_words\": unique_words,\n",
    "        \"lexical_diversity\": lexical_diversity,\n",
    "        \"sentence_length_variability\": sentence_length_variability,\n",
    "        \"grammar_errors\": grammar_errors,\n",
    "        \"complex_structures\": complex_structures,\n",
    "        \"overall_quality\": overall_quality\n",
    "    }\n",
    "\"\"\"\n",
    "\n",
    "# Load essays\n",
    "essay1 = data.iloc[4, 5]\n",
    "essay2 = data.iloc[4, 6]\n",
    "\n",
    "#linguistic sophistication\n",
    "results1 = analyze_essay(essay1)\n",
    "results2 = analyze_essay(essay2)\n",
    "print(results1)\n",
    "print(results2)"
   ]
  },
  {
   "cell_type": "code",
   "execution_count": null,
   "metadata": {},
   "outputs": [],
   "source": []
  }
 ],
 "metadata": {
  "kernelspec": {
   "display_name": "test",
   "language": "python",
   "name": "python3"
  },
  "language_info": {
   "codemirror_mode": {
    "name": "ipython",
    "version": 3
   },
   "file_extension": ".py",
   "mimetype": "text/x-python",
   "name": "python",
   "nbconvert_exporter": "python",
   "pygments_lexer": "ipython3",
   "version": "3.10.12"
  }
 },
 "nbformat": 4,
 "nbformat_minor": 2
}
