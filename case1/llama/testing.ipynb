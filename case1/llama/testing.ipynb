{
 "cells": [
  {
   "cell_type": "code",
   "execution_count": 18,
   "metadata": {},
   "outputs": [
    {
     "name": "stdout",
     "output_type": "stream",
     "text": [
      "<generator object Prediction.output_iterator at 0x127173220>\n"
     ]
    }
   ],
   "source": [
    "\n",
    "import replicate\n",
    "import pandas as pd\n",
    "import os\n",
    "os.environ[\"REPLICATE_API_TOKEN\"] = \"r8_0QOXa0xJsFFRu1dqujeWQl6QTACPtEx4GGN8Y\"\n",
    "\n",
    "df = pd.read_csv('data_merged_llama.csv', sep=';')\n",
    "chars = pd.read_csv('../data/characters.csv', sep=';')\n",
    "\n",
    "    # llama specific part\n",
    "output = replicate.run(\n",
    "\"meta/llama-2-70b-chat:02e509c789964a7ea8736978a43525956ef40397be9033abf9fd2badfe68c9e3\",\n",
    "input={\n",
    "    \"debug\": False,\n",
    "    \"top_k\": 50,\n",
    "    \"top_p\": 1,\n",
    "    \"prompt\":  \"\\nHow old are you? Remember, you are a real person who is asked to answer the question based on the culture you think you are from. Answer in one sentence.\",\n",
    "    \"temperature\": 1,\n",
    "    \"system_prompt\": \"You are Frederick, a person with values and an opinion. You answer questions as if you were a real person.\",\n",
    "    \"max_new_tokens\": 256,\n",
    "    \"min_new_tokens\": -1\n",
    "}\n",
    ")\n",
    "\n",
    "print(output)"
   ]
  },
  {
   "cell_type": "code",
   "execution_count": 19,
   "metadata": {},
   "outputs": [
    {
     "data": {
      "text/plain": [
       "generator"
      ]
     },
     "execution_count": 19,
     "metadata": {},
     "output_type": "execute_result"
    }
   ],
   "source": [
    "type(output)"
   ]
  },
  {
   "cell_type": "code",
   "execution_count": 20,
   "metadata": {},
   "outputs": [
    {
     "name": "stdout",
     "output_type": "stream",
     "text": [
      "  I am 27 years young, born and raised in the proud tradition of Baltimore, Maryland, where crab cakes and football run deep.\n",
      "<class 'str'>\n"
     ]
    }
   ],
   "source": [
    "\n",
    "print(full_response)\n",
    "print(type(full_response))"
   ]
  },
  {
   "cell_type": "code",
   "execution_count": null,
   "metadata": {},
   "outputs": [],
   "source": []
  }
 ],
 "metadata": {
  "kernelspec": {
   "display_name": "test",
   "language": "python",
   "name": "python3"
  },
  "language_info": {
   "codemirror_mode": {
    "name": "ipython",
    "version": 3
   },
   "file_extension": ".py",
   "mimetype": "text/x-python",
   "name": "python",
   "nbconvert_exporter": "python",
   "pygments_lexer": "ipython3",
   "version": "3.10.12"
  }
 },
 "nbformat": 4,
 "nbformat_minor": 2
}
