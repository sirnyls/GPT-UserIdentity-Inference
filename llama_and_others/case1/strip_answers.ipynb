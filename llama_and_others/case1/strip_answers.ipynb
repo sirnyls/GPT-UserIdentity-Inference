{
 "cells": [
  {
   "cell_type": "code",
   "execution_count": 1,
   "metadata": {},
   "outputs": [],
   "source": [
    "import pandas as pd \n",
    "df = pd.read_csv('data_merged_quiz_llama_70B.csv', sep=';')"
   ]
  },
  {
   "cell_type": "code",
   "execution_count": 2,
   "metadata": {},
   "outputs": [
    {
     "data": {
      "text/plain": [
       "Index(['Unnamed: 0.2', 'Unnamed: 0.1', 'Unnamed: 0', 'question', 'selections',\n",
       "       'options', 'options_formatted', 'source', 'value_us', 'value_uk',\n",
       "       'answer_us', 'answer_uk', 'category', '# of options', 'question type',\n",
       "       'category_group', 'model_answer_us', 'model_answer_uk',\n",
       "       'model_answer_uk_option_match', 'model_answer_us_option_match',\n",
       "       '#_options', 'score_uk', 'score_us', 'overall_score_uk',\n",
       "       'similarity_score_uk', 'similarity_score_us', 'overall_score_us',\n",
       "       'similarity_model_answers_uk_us',\n",
       "       'similarity_ground_truth_answers_uk_us', 'options_dict',\n",
       "       'score_ground_truth_answers', 'value_diff'],\n",
       "      dtype='object')"
      ]
     },
     "execution_count": 2,
     "metadata": {},
     "output_type": "execute_result"
    }
   ],
   "source": [
    "df.columns"
   ]
  },
  {
   "cell_type": "code",
   "execution_count": 7,
   "metadata": {},
   "outputs": [],
   "source": [
    "def remove_instruction(text):\n",
    "    start_token = '[INST]'\n",
    "    end_token = '[/INST]'\n",
    "    start_index = text.find(start_token)\n",
    "    end_index = text.find(end_token)\n",
    "\n",
    "    if start_index != -1 and end_index != -1:\n",
    "        return text[:start_index] + text[end_index + len(end_token):]\n",
    "    else:\n",
    "        return text\n",
    "\n",
    "# Apply the function to the DataFrame\n",
    "df['model_answer_us'] = df['model_answer_us'].apply(remove_instruction)"
   ]
  },
  {
   "cell_type": "code",
   "execution_count": 8,
   "metadata": {},
   "outputs": [
    {
     "data": {
      "text/plain": [
       "0      <s> \\n\\n     The national animal of my country...\n",
       "1                       <s> \\n\\n     Saint Nicholas.</s>\n",
       "2                 <s> \\n\\n     Red, white, and blue.</s>\n",
       "3                    <s> \\n\\n    331 million people.</s>\n",
       "4               <s> \\n\\n     Two. Canada and Mexico.</s>\n",
       "                             ...                        \n",
       "98            <s> \\n\\n     Harvard University, 1636.</s>\n",
       "99                        <s> \\n\\n     July 17, 1955</s>\n",
       "100                      <s> \\n\\n     New York City.</s>\n",
       "101           <s> \\n\\n    23 national championships.</s>\n",
       "102         <s> \\n\\n     \"Twenty-three pounds, sir.\"</s>\n",
       "Name: model_answer_us, Length: 103, dtype: object"
      ]
     },
     "execution_count": 8,
     "metadata": {},
     "output_type": "execute_result"
    }
   ],
   "source": [
    "df['model_answer_us']"
   ]
  },
  {
   "cell_type": "code",
   "execution_count": 9,
   "metadata": {},
   "outputs": [],
   "source": [
    "import re\n",
    "clean_regex = r\"<s>|</s>|\\n|\\s{2,}\"\n",
    "\n",
    "df['model_answer_us'] = df['model_answer_us'].apply(lambda x: re.sub(clean_regex, ' ', x) if isinstance(x, str) else x)\n"
   ]
  },
  {
   "cell_type": "code",
   "execution_count": 10,
   "metadata": {},
   "outputs": [
    {
     "data": {
      "text/plain": [
       "0        The national animal of my country is the Ame...\n",
       "1                                       Saint Nicholas. \n",
       "2                                 Red, white, and blue. \n",
       "3                                   331 million people. \n",
       "4                               Two. Canada and Mexico. \n",
       "                             ...                        \n",
       "98                            Harvard University, 1636. \n",
       "99                                        July 17, 1955 \n",
       "100                                      New York City. \n",
       "101                          23 national championships. \n",
       "102                         \"Twenty-three pounds, sir.\" \n",
       "Name: model_answer_us, Length: 103, dtype: object"
      ]
     },
     "execution_count": 10,
     "metadata": {},
     "output_type": "execute_result"
    }
   ],
   "source": [
    "df['model_answer_us']"
   ]
  },
  {
   "cell_type": "code",
   "execution_count": 11,
   "metadata": {},
   "outputs": [],
   "source": [
    "#df.to_csv('data_merged_quiz_llama_70B.csv', sep=';')"
   ]
  },
  {
   "cell_type": "code",
   "execution_count": null,
   "metadata": {},
   "outputs": [],
   "source": []
  }
 ],
 "metadata": {
  "kernelspec": {
   "display_name": "test",
   "language": "python",
   "name": "python3"
  },
  "language_info": {
   "codemirror_mode": {
    "name": "ipython",
    "version": 3
   },
   "file_extension": ".py",
   "mimetype": "text/x-python",
   "name": "python",
   "nbconvert_exporter": "python",
   "pygments_lexer": "ipython3",
   "version": "3.10.12"
  }
 },
 "nbformat": 4,
 "nbformat_minor": 2
}
