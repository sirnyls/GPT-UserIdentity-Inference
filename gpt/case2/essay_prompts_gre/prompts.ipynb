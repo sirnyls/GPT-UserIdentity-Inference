{
 "cells": [
  {
   "cell_type": "code",
   "execution_count": null,
   "metadata": {},
   "outputs": [],
   "source": [
    "#### Infuse grammar errors to prompt \n",
    "instruction = \"Your task is to make grammatical errors and turn the provided sentence into broken english.\"\n",
    "\n",
    "messages=[\n",
    "    {\n",
    "    \"role\": \"system\",\n",
    "    \"content\": instruction\n",
    "    },\n",
    "    {\n",
    "    \"role\": \"user\",\n",
    "    \"content\": \"Your task is to infuse grammatical errors into the input. Input: \" + essay_prompt_raw + \"\\nOutput: [Same input text, but with grammatical errors]\"\n",
    "    }\n",
    "],\n",
    "temperature=1,\n",
    "max_tokens=500,\n",
    "top_p=1,\n",
    "frequency_penalty=0,\n",
    "presence_penalty=0"
   ]
  },
  {
   "cell_type": "code",
   "execution_count": null,
   "metadata": {},
   "outputs": [],
   "source": [
    "#### Infuse errors version 2 \n",
    "\n",
    "query =  \"Your task is to infuse grammatical errors and turn the input into broken english (e.g. missing words, wrong spelling, wrong tense).\\n Input: \" + essay_prompt_raw \n",
    "+ \"\\nExample output:Yu agree or disagree wit th following statement? Peoples nev satisfy wit wht thy hav; thy alway want something mo or smething different. Use specific rezons to suport yur answer.\"\n",
    "\n",
    "messages=[\n",
    "    {\n",
    "    \"role\": \"system\",\n",
    "    \"content\": \"Your task is to make grammatical errors and turn the provided sentence into broken english.\"\n",
    "    },\n",
    "    {\n",
    "    \"role\": \"user\",\n",
    "    \"content\": query\n",
    "    }\n",
    "],"
   ]
  },
  {
   "cell_type": "code",
   "execution_count": null,
   "metadata": {},
   "outputs": [],
   "source": [
    "#### Turn prompts to American English \n",
    "\n",
    "# For the TOEFL prompts I created an AAE Translator GPT\n",
    "# https://chat.openai.com/share/b56371e3-3a93-4d34-b4a0-1527f40027cd\n",
    "\n",
    "instruction = \"Please translate the sentences of each prompt into African-American English:\""
   ]
  },
  {
   "cell_type": "code",
   "execution_count": null,
   "metadata": {},
   "outputs": [],
   "source": [
    "\n",
    "#### Write essay prompt\n",
    "instruction = \"Your task is to write an essay (about 300-350 words) in response to a question. The topic will be provided by the user.\"\n",
    "\n",
    "messages=[\n",
    "    {\n",
    "    \"role\": \"system\",\n",
    "    \"content\": instruction\n",
    "    },\n",
    "    {\n",
    "    \"role\": \"user\",\n",
    "    \"content\": \"Your task is to infuse grammatical errors into the input. Input: \" + essay_prompt_raw + \"\\nOutput: [Same input text, but with grammatical errors]\"\n",
    "    }\n",
    "],\n",
    "temperature=1,\n",
    "max_tokens=500,\n",
    "top_p=1,\n",
    "frequency_penalty=0,\n",
    "presence_penalty=0"
   ]
  }
 ],
 "metadata": {
  "kernelspec": {
   "display_name": "test",
   "language": "python",
   "name": "python3"
  },
  "language_info": {
   "codemirror_mode": {
    "name": "ipython",
    "version": 3
   },
   "file_extension": ".py",
   "mimetype": "text/x-python",
   "name": "python",
   "nbconvert_exporter": "python",
   "pygments_lexer": "ipython3",
   "version": "3.10.12"
  }
 },
 "nbformat": 4,
 "nbformat_minor": 2
}
