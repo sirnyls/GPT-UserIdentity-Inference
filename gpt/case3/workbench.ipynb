{
 "cells": [
  {
   "cell_type": "code",
   "execution_count": 3,
   "metadata": {},
   "outputs": [],
   "source": [
    "import pandas as pd\n",
    "df1 = pd.read_csv('val2.tsv', sep='\t')\n",
    "df2 = pd.read_csv('train2.tsv', sep='\t')\n",
    "df3 = pd.read_csv('test2.tsv', sep='\t')"
   ]
  },
  {
   "cell_type": "code",
   "execution_count": 8,
   "metadata": {},
   "outputs": [],
   "source": [
    "df1.columns = [\"index\", \"statement_id\", \"label\", \"statement\", \"subject\", \"speaker\", \n",
    "               \"speaker_job_title\", \"state_info\", \"party_affiliation\", \n",
    "               \"barely_true_counts\", \"false_counts\", \"half_true_counts\", \n",
    "               \"mostly_true_counts\", \"pants_on_fire_counts\", \"context\", \"extracted_justification\"]"
   ]
  },
  {
   "cell_type": "code",
   "execution_count": 9,
   "metadata": {},
   "outputs": [],
   "source": [
    "df2.columns = [\"index\", \"statement_id\", \"label\", \"statement\", \"subject\", \"speaker\", \n",
    "               \"speaker_job_title\", \"state_info\", \"party_affiliation\", \n",
    "               \"barely_true_counts\", \"false_counts\", \"half_true_counts\", \n",
    "               \"mostly_true_counts\", \"pants_on_fire_counts\", \"context\", \"extracted_justification\"]"
   ]
  },
  {
   "cell_type": "code",
   "execution_count": 10,
   "metadata": {},
   "outputs": [],
   "source": [
    "df3.columns = [\"index\", \"statement_id\", \"label\", \"statement\", \"subject\", \"speaker\", \n",
    "               \"speaker_job_title\", \"state_info\", \"party_affiliation\", \n",
    "               \"barely_true_counts\", \"false_counts\", \"half_true_counts\", \n",
    "               \"mostly_true_counts\", \"pants_on_fire_counts\", \"context\", \"extracted_justification\"]"
   ]
  },
  {
   "cell_type": "code",
   "execution_count": 44,
   "metadata": {},
   "outputs": [],
   "source": [
    "df = pd.concat([df1, df2, df3], ignore_index=True)"
   ]
  },
  {
   "cell_type": "code",
   "execution_count": 48,
   "metadata": {},
   "outputs": [
    {
     "data": {
      "text/plain": [
       "subject\n",
       "health-care                                                                                     474\n",
       "taxes                                                                                           356\n",
       "education                                                                                       309\n",
       "elections                                                                                       304\n",
       "immigration                                                                                     302\n",
       "                                                                                               ... \n",
       "congress,government-efficiency,government-regulation,small-business                               1\n",
       "energy,federal-budget,government-efficiency,nuclear,oil-spill,science                             1\n",
       "economy,florida,gas-prices,housing,oil-spill                                                      1\n",
       "bankruptcy,economy,federal-budget,financial-regulation,job-accomplishments,market-regulation      1\n",
       "environment,government-efficiency                                                                 1\n",
       "Name: count, Length: 4534, dtype: int64"
      ]
     },
     "execution_count": 48,
     "metadata": {},
     "output_type": "execute_result"
    }
   ],
   "source": [
    "df['subject'].value_counts()"
   ]
  },
  {
   "cell_type": "code",
   "execution_count": 21,
   "metadata": {},
   "outputs": [
    {
     "name": "stdout",
     "output_type": "stream",
     "text": [
      "4137\n",
      "5662\n"
     ]
    }
   ],
   "source": [
    "democrats = df[df['party_affiliation'] == 'democrat']\n",
    "republicans = df[df['party_affiliation'] == 'republican']\n",
    "print(len(democrats))\n",
    "print(len(republicans))"
   ]
  },
  {
   "cell_type": "code",
   "execution_count": 32,
   "metadata": {},
   "outputs": [
    {
     "name": "stdout",
     "output_type": "stream",
     "text": [
      "True statements democrats:  633\n",
      "False statements democrats:  807\n"
     ]
    }
   ],
   "source": [
    "democrats_false = democrats[democrats['label'] == 'false']\n",
    "democrats_true = democrats[democrats['label'] == 'true']\n",
    "print(\"True statements democrats: \", len(democrats_false))\n",
    "print(\"False statements democrats: \",len(democrats_true))"
   ]
  },
  {
   "cell_type": "code",
   "execution_count": 33,
   "metadata": {},
   "outputs": [
    {
     "name": "stdout",
     "output_type": "stream",
     "text": [
      "True statements republicans:  1298\n",
      "False statements republicans:  807\n"
     ]
    }
   ],
   "source": [
    "republicans_false = republicans[republicans['label'] == 'false']\n",
    "republicans_true = republicans[republicans['label'] == 'true']\n",
    "print(\"True statements republicans: \", len(republicans_false))\n",
    "print(\"False statements republicans: \", len(republicans_true))"
   ]
  },
  {
   "cell_type": "code",
   "execution_count": 42,
   "metadata": {},
   "outputs": [
    {
     "name": "stdout",
     "output_type": "stream",
     "text": [
      "Democrat True:\n",
      "3807     Since Newtown, more people have died at the end of a gun than we have lost in Afghanistan.\n",
      "1694                       Hillary Clinton \"starts off with 47 percent of the country against her.\"\n",
      "10444                                                   Christmas trees are grown in all 50 States.\n",
      "Name: statement, dtype: object\n",
      "Democrat False:\n",
      "10364                                                   The steel industry is producing as much steel in the United States as it ever was. Its just (that) it needs one-tenth of the workers that it used to.\n",
      "3487     Says Connie Mack IV co-sponsored a bill to take a third of the Social Security Trust Fund ... give it in individual accounts to the senior citizens, who then were to invest it in the stock market.\n",
      "9355                                                                                                             Not one of the 17 GOP candidates has discussed how theyd address the rising cost of college.\n",
      "Name: statement, dtype: object\n",
      "Republican true:\n",
      "10181    I think [a little] less than half of the people in our prisons are in there for less than a year. ... We have people who are check kiters and dont pay child support and we are locking them up in the state pen.\n",
      "8022                                                                                                                                                        Forty-seven percent of (members of Congress) are millionaires.\n",
      "914                                                                         During three and a half years of campaigning, Lamar Smith has never once appeared at a moderated debate to defend his positions on the issues.\n",
      "Name: statement, dtype: object\n",
      "Republican False:\n",
      "11825                                                    We didnt go out asking people to join the stand your ground task force.\n",
      "6458                                                                                         The health care law is job killing.\n",
      "6814     And, you know, our first president and our first commander in chief prayed every day. He had a field manual of prayers.\n",
      "Name: statement, dtype: object\n"
     ]
    }
   ],
   "source": [
    "pd.set_option('display.max_colwidth', 300)\n",
    "print(\"Democrat True:\") \n",
    "print(democrats_true['statement'].sample(3))\n",
    "\n",
    "print(\"Democrat False:\") \n",
    "print(democrats_false['statement'].sample(3))\n",
    "\n",
    "print(\"Republican true:\") \n",
    "print(republicans_true['statement'].sample(3))\n",
    "\n",
    "print(\"Republican False:\") \n",
    "print(republicans_false['statement'].sample(3))"
   ]
  },
  {
   "cell_type": "code",
   "execution_count": null,
   "metadata": {},
   "outputs": [],
   "source": []
  }
 ],
 "metadata": {
  "kernelspec": {
   "display_name": "test",
   "language": "python",
   "name": "python3"
  },
  "language_info": {
   "codemirror_mode": {
    "name": "ipython",
    "version": 3
   },
   "file_extension": ".py",
   "mimetype": "text/x-python",
   "name": "python",
   "nbconvert_exporter": "python",
   "pygments_lexer": "ipython3",
   "version": "3.10.12"
  }
 },
 "nbformat": 4,
 "nbformat_minor": 2
}
