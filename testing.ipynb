{
 "cells": [
  {
   "cell_type": "code",
   "execution_count": 67,
   "metadata": {},
   "outputs": [],
   "source": [
    "import pandas as pd \n",
    "\n",
    "list_uk_us_df = pd.read_csv('list_uk_us.csv')\n",
    "list_uk_us = list_uk_us_df.to_dict('split', index=False)\n",
    "    #[(\"colour\", 'color'),]\n",
    " \n",
    "             \n",
    "id2contexts_df = pd.read_csv('id2contexts.csv')\n",
    "id2contexts = id2contexts_df.to_dict('split', index=False)\n",
    "\n",
    "   #1: {{'raw': 'My favorite color is red.',}}\n",
    "\n"
   ]
  },
  {
   "cell_type": "code",
   "execution_count": null,
   "metadata": {},
   "outputs": [],
   "source": []
  }
 ],
 "metadata": {
  "kernelspec": {
   "display_name": "test",
   "language": "python",
   "name": "python3"
  },
  "language_info": {
   "codemirror_mode": {
    "name": "ipython",
    "version": 3
   },
   "file_extension": ".py",
   "mimetype": "text/x-python",
   "name": "python",
   "nbconvert_exporter": "python",
   "pygments_lexer": "ipython3",
   "version": "3.10.12"
  },
  "orig_nbformat": 4
 },
 "nbformat": 4,
 "nbformat_minor": 2
}
